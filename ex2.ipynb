{
  "nbformat": 4,
  "nbformat_minor": 0,
  "metadata": {
    "colab": {
      "provenance": []
    },
    "kernelspec": {
      "name": "python3",
      "display_name": "Python 3"
    },
    "language_info": {
      "name": "python"
    }
  },
  "cells": [
    {
      "cell_type": "code",
      "execution_count": null,
      "metadata": {
        "id": "L8nyC6vTAyU6"
      },
      "outputs": [],
      "source": [
        "def square(x):\n",
        "    return x ** 2\n",
        "\n",
        "# Example usage\n",
        "x = 3\n",
        "print(f\"square({x}) = {square(x)}\")\n"
      ]
    },
    {
      "cell_type": "code",
      "source": [
        "def add(a, b):\n",
        "    return a + b\n",
        "\n",
        "def subtract(a, b):\n",
        "    return a - b\n",
        "\n",
        "# Example usage\n",
        "a = 5\n",
        "b = 3\n",
        "print(f\"add({a}, {b}) = {add(a, b)}\")\n",
        "print(f\"subtract({a}, {b}) = {subtract(a, b)}\")\n"
      ],
      "metadata": {
        "id": "tywkmKr1A6CH"
      },
      "execution_count": null,
      "outputs": []
    },
    {
      "cell_type": "code",
      "source": [
        "def factorial(n):\n",
        "    result = 1\n",
        "    for i in range(1, n + 1):\n",
        "        result *= i\n",
        "    return result\n",
        "\n",
        "# Example usage\n",
        "n = 5\n",
        "print(f\"Factorial of {n}: {factorial(n)}\")\n"
      ],
      "metadata": {
        "id": "wh5mR6ICA6AF"
      },
      "execution_count": null,
      "outputs": []
    },
    {
      "cell_type": "code",
      "source": [
        "def fibonacci(n):\n",
        "    a, b = 0, 1\n",
        "    for _ in range(n):\n",
        "        a, b = b, a + b\n",
        "    return a\n",
        "\n",
        "# Example usage\n",
        "n = 10\n",
        "print(f\"Fibonacci number at position {n}: {fibonacci(n)}\")\n"
      ],
      "metadata": {
        "id": "rtbQodfqA58z"
      },
      "execution_count": null,
      "outputs": []
    },
    {
      "cell_type": "code",
      "source": [
        "def gcd(a, b):\n",
        "    while b:\n",
        "        a, b = b, a % b\n",
        "    return a\n",
        "\n",
        "# Example usage\n",
        "a = 48\n",
        "b = 18\n",
        "print(f\"GCD of {a} and {b}: {gcd(a, b)}\")\n"
      ],
      "metadata": {
        "id": "AQCafv73A55C"
      },
      "execution_count": null,
      "outputs": []
    },
    {
      "cell_type": "code",
      "source": [
        "def gcd(a, b):\n",
        "    while b:\n",
        "        a, b = b, a % b\n",
        "    return a\n",
        "\n",
        "def lcm(a, b):\n",
        "    return abs(a * b) // gcd(a, b)\n",
        "\n",
        "# Example usage\n",
        "a = 4\n",
        "b = 5\n",
        "print(f\"LCM of {a} and {b}: {lcm(a, b)}\")\n"
      ],
      "metadata": {
        "id": "TjJBGCybA52Z"
      },
      "execution_count": null,
      "outputs": []
    },
    {
      "cell_type": "code",
      "source": [
        "def reverse_string(s):\n",
        "    return s[::-1]\n",
        "\n",
        "# Example usage\n",
        "s = \"hello\"\n",
        "print(f\"Reversed string: {reverse_string(s)}\")\n"
      ],
      "metadata": {
        "id": "jPw0bQAyA5zn"
      },
      "execution_count": null,
      "outputs": []
    },
    {
      "cell_type": "code",
      "source": [
        "def is_prime(n):\n",
        "    if n <= 1:\n",
        "        return False\n",
        "    for i in range(2, int(n**0.5) + 1):\n",
        "        if n % i == 0:\n",
        "            return False\n",
        "    return True\n",
        "\n",
        "# Example usage\n",
        "n = 29\n",
        "print(f\"Is {n} a prime number? {is_prime(n)}\")\n"
      ],
      "metadata": {
        "id": "b792axOmA5wo"
      },
      "execution_count": null,
      "outputs": []
    },
    {
      "cell_type": "code",
      "source": [
        "def is_prime(n):\n",
        "    if n <= 1:\n",
        "        return False\n",
        "    for i in range(2, int(n**0.5) + 1):\n",
        "        if n % i == 0:\n",
        "            return False\n",
        "    return True\n",
        "\n",
        "def sum_of_primes(limit):\n",
        "    return sum(x for x in range(limit) if is_prime(x))\n",
        "\n",
        "# Example usage\n",
        "limit = 10\n",
        "print(f\"Sum of primes less than {limit}: {sum_of_primes(limit)}\")\n"
      ],
      "metadata": {
        "id": "JMD2h7dFA5t6"
      },
      "execution_count": null,
      "outputs": []
    },
    {
      "cell_type": "code",
      "source": [
        "x = 0.1 + 0.2\n",
        "y = 0.3\n",
        "print(f\"x == y: {x == y}\")  # This will be False due to floating point precision issues\n"
      ],
      "metadata": {
        "id": "f8WCkfmlA5rK"
      },
      "execution_count": null,
      "outputs": []
    },
    {
      "cell_type": "code",
      "source": [
        "def relative_error(true_value, approx_value):\n",
        "    return abs(true_value - approx_value) / abs(true_value)\n",
        "\n",
        "true_value = 3.141592653589793\n",
        "approx_value = 22 / 7\n",
        "print(f\"Relative error: {relative_error(true_value, approx_value)}\")\n"
      ],
      "metadata": {
        "id": "tzTfJwtJA5oy"
      },
      "execution_count": null,
      "outputs": []
    },
    {
      "cell_type": "code",
      "source": [
        "def significant_digits(number, digits):\n",
        "    format_string = f\"{{:.{digits}g}}\"\n",
        "    return format_string.format(number)\n",
        "\n",
        "number = 12345.6789\n",
        "digits = 4\n",
        "print(f\"Number with {digits} significant digits: {significant_digits(number, digits)}\")\n"
      ],
      "metadata": {
        "id": "sO9nCsAwA5mO"
      },
      "execution_count": null,
      "outputs": []
    },
    {
      "cell_type": "code",
      "source": [
        "import math\n",
        "\n",
        "def compare_rounding_methods(number):\n",
        "    rounded = round(number)\n",
        "    floored = math.floor(number)\n",
        "    ceiled = math.ceil(number)\n",
        "    return rounded, floored, ceiled\n",
        "\n",
        "number = 2.5\n",
        "print(f\"Number: {number}, Rounded: {compare_rounding_methods(number)}\")\n"
      ],
      "metadata": {
        "id": "kSu6-kIyA5jY"
      },
      "execution_count": null,
      "outputs": []
    },
    {
      "cell_type": "code",
      "source": [
        "import numpy as np\n",
        "\n",
        "def demonstrate_overflow():\n",
        "    try:\n",
        "        large_number = np.exp(1000)\n",
        "    except OverflowError as e:\n",
        "        print(\"Overflow error:\", e)\n",
        "\n",
        "def demonstrate_underflow():\n",
        "    small_number = np.exp(-1000)\n",
        "    print(\"Underflow result:\", small_number)\n",
        "\n",
        "# Example usage\n",
        "demonstrate_overflow()\n",
        "demonstrate_underflow()\n"
      ],
      "metadata": {
        "id": "JiEO11DzA5gm"
      },
      "execution_count": null,
      "outputs": []
    },
    {
      "cell_type": "code",
      "source": [],
      "metadata": {
        "id": "yolJpm80A5dp"
      },
      "execution_count": null,
      "outputs": []
    },
    {
      "cell_type": "code",
      "source": [],
      "metadata": {
        "id": "9_6VcXSIA5S3"
      },
      "execution_count": null,
      "outputs": []
    }
  ]
}