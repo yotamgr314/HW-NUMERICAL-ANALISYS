{
  "nbformat": 4,
  "nbformat_minor": 0,
  "metadata": {
    "colab": {
      "provenance": []
    },
    "kernelspec": {
      "name": "python3",
      "display_name": "Python 3"
    },
    "language_info": {
      "name": "python"
    }
  },
  "cells": [
    {
      "cell_type": "code",
      "execution_count": null,
      "metadata": {
        "id": "Sk64yUxNBU1Y"
      },
      "outputs": [],
      "source": [
        "def bisection_method(f, a, b, tol):\n",
        "    if f(a) * f(b) >= 0:\n",
        "        print(\"Bisection method fails.\")\n",
        "        return None\n",
        "    a_n = a\n",
        "    b_n = b\n",
        "    while (b_n - a_n) / 2.0 > tol:\n",
        "        midpoint = (a_n + b_n) / 2.0\n",
        "        if f(midpoint) == 0:\n",
        "            return midpoint\n",
        "        elif f(a_n) * f(midpoint) < 0:\n",
        "            b_n = midpoint\n",
        "        else:\n",
        "            a_n = midpoint\n",
        "    return (a_n + b_n) / 2.0\n",
        "\n",
        "# Example usage\n",
        "f = lambda x: x**3 - x - 2\n",
        "root = bisection_method(f, 1, 2, 1e-6)\n",
        "print(f\"Root: {root}\")\n"
      ]
    },
    {
      "cell_type": "code",
      "source": [
        "def newton_raphson_method(f, df, x0, tol):\n",
        "    x_n = x0\n",
        "    while True:\n",
        "        fx_n = f(x_n)\n",
        "        dfx_n = df(x_n)\n",
        "        if abs(fx_n) < tol:\n",
        "            return x_n\n",
        "        x_n = x_n - fx_n / dfx_n\n",
        "\n",
        "# Example usage\n",
        "f = lambda x: x**3 - x - 2\n",
        "df = lambda x: 3*x**2 - 1\n",
        "root = newton_raphson_method(f, df, 1, 1e-6)\n",
        "print(f\"Root: {root}\")\n"
      ],
      "metadata": {
        "id": "pTJMkhpdBhqd"
      },
      "execution_count": null,
      "outputs": []
    },
    {
      "cell_type": "code",
      "source": [
        "def secant_method(f, x0, x1, tol):\n",
        "    f_x0 = f(x0)\n",
        "    f_x1 = f(x1)\n",
        "    while abs(f_x1) > tol:\n",
        "        x_temp = x1 - f_x1 * (x1 - x0) / (f_x1 - f_x0)\n",
        "        x0, x1 = x1, x_temp\n",
        "        f_x0, f_x1 = f_x1, f(x1)\n",
        "    return x1\n",
        "\n",
        "# Example usage\n",
        "f = lambda x: x**3 - x - 2\n",
        "root = secant_method(f, 1, 2, 1e-6)\n",
        "print(f\"Root: {root}\")\n"
      ],
      "metadata": {
        "id": "xxWCMhdvBhoD"
      },
      "execution_count": null,
      "outputs": []
    },
    {
      "cell_type": "code",
      "source": [
        "import numpy as np\n",
        "\n",
        "def linear_interpolation(x0, y0, x1, y1, x):\n",
        "    return y0 + (y1 - y0) * (x - x0) / (x1 - x0)\n",
        "\n",
        "# Example usage\n",
        "x0, y0 = 0, 0\n",
        "x1, y1 = 1, 1\n",
        "x = 0.5\n",
        "y = linear_interpolation(x0, y0, x1, y1, x)\n",
        "print(f\"Interpolated value at x={x}: {y}\")\n"
      ],
      "metadata": {
        "id": "6nyWJFcFBhlC"
      },
      "execution_count": null,
      "outputs": []
    },
    {
      "cell_type": "code",
      "source": [
        "def lagrange_interpolation(x, y, x0):\n",
        "    def L(k, x0):\n",
        "        result = 1\n",
        "        for i in range(len(x)):\n",
        "            if i != k:\n",
        "                result *= (x0 - x[i]) / (x[k] - x[i])\n",
        "        return result\n",
        "\n",
        "    result = 0\n",
        "    for k in range(len(x)):\n",
        "        result += y[k] * L(k, x0)\n",
        "    return result\n",
        "\n",
        "# Example usage\n",
        "x = [0, 1, 2]\n",
        "y = [1, 3, 2]\n",
        "x0 = 1.5\n",
        "y0 = lagrange_interpolation(x, y, x0)\n",
        "print(f\"Interpolated value at x0={x0}: {y0}\")\n"
      ],
      "metadata": {
        "id": "_-L20OhnBhh8"
      },
      "execution_count": null,
      "outputs": []
    },
    {
      "cell_type": "code",
      "source": [
        "import numpy as np\n",
        "from scipy.interpolate import CubicSpline\n",
        "\n",
        "x = [0, 1, 2, 3]\n",
        "y = [0, 1, 0, -1]\n",
        "\n",
        "cs = CubicSpline(x, y)\n",
        "\n",
        "# Example usage\n",
        "x_new = np.linspace(0, 3, 100)\n",
        "y_new = cs(x_new)\n",
        "\n",
        "print(f\"Interpolated values: {y_new}\")\n"
      ],
      "metadata": {
        "id": "hVObAmOCBhfN"
      },
      "execution_count": null,
      "outputs": []
    },
    {
      "cell_type": "code",
      "source": [
        "def newtons_divided_diff(x, y):\n",
        "    n = len(y)\n",
        "    coef = np.zeros([n, n])\n",
        "    coef[:,0] = y\n",
        "\n",
        "    for j in range(1, n):\n",
        "        for i in range(n - j):\n",
        "            coef[i,j] = (coef[i+1,j-1] - coef[i,j-1]) / (x[i+j] - x[i])\n",
        "\n",
        "    return coef[0, :]\n",
        "\n",
        "def newtons_interpolation(x, y, x0):\n",
        "    coef = newtons_divided_diff(x, y)\n",
        "    n = len(coef) - 1\n",
        "    result = coef[n]\n",
        "    for i in range(n-1, -1, -1):\n",
        "        result = result * (x0 - x[i]) + coef[i]\n",
        "    return result\n",
        "\n",
        "# Example usage\n",
        "x = [0, 1, 2]\n",
        "y = [1, 3, 2]\n",
        "x0 = 1.5\n",
        "y0 = newtons_interpolation(x, y, x0)\n",
        "print(f\"Interpolated value at x0={x0}: {y0}\")\n"
      ],
      "metadata": {
        "id": "0H5rsu6PBhcT"
      },
      "execution_count": null,
      "outputs": []
    },
    {
      "cell_type": "code",
      "source": [
        "import numpy as np\n",
        "\n",
        "def hermite_interpolation(x, y, y_prime, x0):\n",
        "    def h_0(t):\n",
        "        return 2*t**3 - 3*t**2 + 1\n",
        "\n",
        "    def h_1(t):\n",
        "        return -2*t**3 + 3*t**2\n",
        "\n",
        "    def h_2(t):\n",
        "        return t**3 - 2*t**2 + t\n",
        "\n",
        "    def h_3(t):\n",
        "        return t**3 - t**2\n",
        "\n",
        "    n = len(x) - 1\n",
        "    i = n  # assuming x0 in the interval [x_n, x_{n+1}]\n",
        "    for j in range(n):\n",
        "        if x[j] <= x0 <= x[j+1]:\n",
        "            i = j\n",
        "            break\n",
        "\n",
        "    t = (x0 - x[i]) / (x[i+1] - x[i])\n",
        "\n",
        "    h = (y[i] * h_0(t) + y[i+1] * h_1(t) +\n",
        "         (x[i+1] - x[i]) * (y_prime[i] * h_2(t) + y_prime[i+1] * h_3(t)))\n",
        "\n",
        "    return h\n",
        "\n",
        "# Example usage\n",
        "x = [0, 1, 2]\n",
        "y = [1, 3, 2]\n",
        "y_prime = [0, 0, 0]\n",
        "x0 = 1.5\n",
        "y0 = hermite_interpolation(x, y, y_prime, x0)\n",
        "print(f\"Interpolated value at x0={x0}: {y0}\")\n"
      ],
      "metadata": {
        "id": "ap6vEMcuBhZt"
      },
      "execution_count": null,
      "outputs": []
    },
    {
      "cell_type": "code",
      "source": [
        "import numpy as np\n",
        "\n",
        "def least_squares(x, y):\n",
        "    A = np.vstack([x, np.ones(len(x))]).T\n",
        "    m, c = np.linalg.lstsq(A, y, rcond=None)[0]\n",
        "    return m, c\n",
        "\n",
        "# Example usage\n",
        "x = np.array([0, 1, 2, 3, 4])\n",
        "y = np.array([1, 3, 2, 5, 7])\n",
        "m, c = least_squares(x, y)\n",
        "print(f\"Slope: {m}, Intercept: {c}\")\n"
      ],
      "metadata": {
        "id": "ZrhyMC0zBqDK"
      },
      "execution_count": null,
      "outputs": []
    },
    {
      "cell_type": "code",
      "source": [
        "import numpy as np\n",
        "\n",
        "def polynomial_least_squares(x, y, degree):\n",
        "    coeffs = np.polyfit(x, y, degree)\n",
        "    return np.poly1d(coeffs)\n",
        "\n",
        "# Example usage\n",
        "x = np.array([0, 1, 2, 3, 4])\n",
        "y = np.array([1, 3, 2, 5, 7])\n",
        "degree = 2\n",
        "poly = polynomial_least_squares(x, y, degree)\n",
        "print(f\"Polynomial coefficients: {poly.coeffs}\")\n"
      ],
      "metadata": {
        "id": "_Vx_TzT3BqAe"
      },
      "execution_count": null,
      "outputs": []
    },
    {
      "cell_type": "code",
      "source": [
        "import numpy as np\n",
        "\n",
        "def exponential_least_squares(x, y):\n",
        "    log_y = np.log(y)\n",
        "    coeffs = np.polyfit(x, log_y, 1)\n",
        "    a = np.exp(coeffs[1])\n",
        "    b = coeffs[0]\n",
        "    return a, b\n",
        "\n",
        "# Example usage\n",
        "x = np.array([0, 1, 2, 3, 4])\n",
        "y = np.array([1, 3, 9, 27, 81])\n",
        "a, b = exponential_least_squares(x, y)\n",
        "print(f\"Exponential function: y = {a} * exp({b} * x)\")\n"
      ],
      "metadata": {
        "id": "Xg_mlSLyBp98"
      },
      "execution_count": null,
      "outputs": []
    },
    {
      "cell_type": "code",
      "source": [
        "import numpy as np\n",
        "\n",
        "def power_least_squares(x, y):\n",
        "    log_x = np.log(x)\n",
        "    log_y = np.log(y)\n",
        "    coeffs = np.polyfit(log_x, log_y, 1)\n",
        "    a = np.exp(coeffs[1])\n",
        "    b = coeffs[0]\n",
        "    return a, b\n",
        "\n",
        "# Example usage\n",
        "x = np.array([1, 2, 3, 4, 5])\n",
        "y = np.array([2, 4, 8, 16, 32])\n",
        "a, b = power_least_squares(x, y)\n",
        "print(f\"Power function: y = {a} * x^{b}\")\n"
      ],
      "metadata": {
        "id": "88DfD6mUBspO"
      },
      "execution_count": null,
      "outputs": []
    },
    {
      "cell_type": "code",
      "source": [],
      "metadata": {
        "id": "GKhGOYigBsme"
      },
      "execution_count": null,
      "outputs": []
    }
  ]
}