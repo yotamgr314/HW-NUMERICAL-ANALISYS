{
  "nbformat": 4,
  "nbformat_minor": 0,
  "metadata": {
    "colab": {
      "provenance": []
    },
    "kernelspec": {
      "name": "python3",
      "display_name": "Python 3"
    },
    "language_info": {
      "name": "python"
    }
  },
  "cells": [
    {
      "cell_type": "code",
      "execution_count": 2,
      "metadata": {
        "id": "Nk_CZgs7-1HQ"
      },
      "outputs": [],
      "source": [
        "import numpy as np\n"
      ]
    },
    {
      "cell_type": "code",
      "source": [
        "x = np.arange(0, 10.1, 0.1)\n",
        "squares = x ** 2\n",
        "\n",
        "# Example usage\n",
        "print(\"Array of squares:\", squares)"
      ],
      "metadata": {
        "colab": {
          "base_uri": "https://localhost:8080/"
        },
        "id": "-TwRcfwi-4Rj",
        "outputId": "55002765-22c9-4df9-ad39-f3ecf161ddd3"
      },
      "execution_count": 3,
      "outputs": [
        {
          "output_type": "stream",
          "name": "stdout",
          "text": [
            "Array of squares: [0.000e+00 1.000e-02 4.000e-02 9.000e-02 1.600e-01 2.500e-01 3.600e-01\n",
            " 4.900e-01 6.400e-01 8.100e-01 1.000e+00 1.210e+00 1.440e+00 1.690e+00\n",
            " 1.960e+00 2.250e+00 2.560e+00 2.890e+00 3.240e+00 3.610e+00 4.000e+00\n",
            " 4.410e+00 4.840e+00 5.290e+00 5.760e+00 6.250e+00 6.760e+00 7.290e+00\n",
            " 7.840e+00 8.410e+00 9.000e+00 9.610e+00 1.024e+01 1.089e+01 1.156e+01\n",
            " 1.225e+01 1.296e+01 1.369e+01 1.444e+01 1.521e+01 1.600e+01 1.681e+01\n",
            " 1.764e+01 1.849e+01 1.936e+01 2.025e+01 2.116e+01 2.209e+01 2.304e+01\n",
            " 2.401e+01 2.500e+01 2.601e+01 2.704e+01 2.809e+01 2.916e+01 3.025e+01\n",
            " 3.136e+01 3.249e+01 3.364e+01 3.481e+01 3.600e+01 3.721e+01 3.844e+01\n",
            " 3.969e+01 4.096e+01 4.225e+01 4.356e+01 4.489e+01 4.624e+01 4.761e+01\n",
            " 4.900e+01 5.041e+01 5.184e+01 5.329e+01 5.476e+01 5.625e+01 5.776e+01\n",
            " 5.929e+01 6.084e+01 6.241e+01 6.400e+01 6.561e+01 6.724e+01 6.889e+01\n",
            " 7.056e+01 7.225e+01 7.396e+01 7.569e+01 7.744e+01 7.921e+01 8.100e+01\n",
            " 8.281e+01 8.464e+01 8.649e+01 8.836e+01 9.025e+01 9.216e+01 9.409e+01\n",
            " 9.604e+01 9.801e+01 1.000e+02]\n"
          ]
        }
      ]
    },
    {
      "cell_type": "code",
      "source": [
        "angles = np.arange(0, 2 * np.pi, np.pi / 4)\n",
        "sine_values = np.sin(angles)\n",
        "\n",
        "# Example usage\n",
        "print(\"Sine values:\", sine_values)"
      ],
      "metadata": {
        "colab": {
          "base_uri": "https://localhost:8080/"
        },
        "id": "d3FL1yII-7bJ",
        "outputId": "98ae6369-c7d0-49f9-9a09-75eae2665588"
      },
      "execution_count": 4,
      "outputs": [
        {
          "output_type": "stream",
          "name": "stdout",
          "text": [
            "Sine values: [ 0.00000000e+00  7.07106781e-01  1.00000000e+00  7.07106781e-01\n",
            "  1.22464680e-16 -7.07106781e-01 -1.00000000e+00 -7.07106781e-01]\n"
          ]
        }
      ]
    },
    {
      "cell_type": "code",
      "source": [
        "def factorial(n):\n",
        "    result = 1\n",
        "    for i in range(1, n + 1):\n",
        "        result *= i\n",
        "    return result\n",
        "\n",
        "# Example usage\n",
        "n = 5\n",
        "print(f\"Factorial of {n}: {factorial(n)}\")\n"
      ],
      "metadata": {
        "id": "KQMmpoPe_DMD"
      },
      "execution_count": null,
      "outputs": []
    },
    {
      "cell_type": "code",
      "source": [
        "def sum_of_odds(n):\n",
        "    sum_odds = 0\n",
        "    for i in range(1, 2 * n, 2):\n",
        "        sum_odds += i\n",
        "    return sum_odds\n",
        "\n",
        "# Example usage\n",
        "n = 5\n",
        "print(f\"Sum of the first {n} odd numbers: {sum_of_odds(n)}\")\n"
      ],
      "metadata": {
        "id": "MifPdiuI_GN_"
      },
      "execution_count": null,
      "outputs": []
    },
    {
      "cell_type": "code",
      "source": [
        "random_integers = np.random.randint(1, 101, size=10)\n",
        "average = np.mean(random_integers)\n",
        "\n",
        "# Example usage\n",
        "print(\"Random integers:\", random_integers)\n",
        "print(\"Average:\", average)\n"
      ],
      "metadata": {
        "id": "_3kEf2fa_IZm"
      },
      "execution_count": null,
      "outputs": []
    },
    {
      "cell_type": "code",
      "source": [
        "x = np.arange(0, 10.1, 0.1)\n",
        "logarithms = np.log(x, where=(x > 0))\n",
        "\n",
        "# Example usage\n",
        "print(\"Logarithms:\", logarithms)"
      ],
      "metadata": {
        "id": "Dfd9aUKK_LGv"
      },
      "execution_count": null,
      "outputs": []
    },
    {
      "cell_type": "markdown",
      "source": [
        "part 2"
      ],
      "metadata": {
        "id": "5NMItaj0_-pR"
      }
    },
    {
      "cell_type": "code",
      "source": [
        "a = 5\n",
        "b = 3.14\n",
        "c = \"Hello, World!\"\n",
        "d = [1, 2, 3]\n",
        "e = (4, 5, 6)\n",
        "f = {'name': 'Alice', 'age': 25}\n",
        "g = {1, 2, 3}\n",
        "\n",
        "# Printing variables and their types\n",
        "variables = [a, b, c, d, e, f, g]\n",
        "for var in variables:\n",
        "    print(f\"Value: {var}, Type: {type(var)}\")\n"
      ],
      "metadata": {
        "id": "Iz3cRoPV_RAT"
      },
      "execution_count": null,
      "outputs": []
    },
    {
      "cell_type": "code",
      "source": [
        "a = 5\n",
        "b = 3\n",
        "\n",
        "# Swapping values\n",
        "a, b = b, a\n",
        "\n",
        "print(f\"a: {a}, b: {b}\")\n"
      ],
      "metadata": {
        "id": "wtcpXsfTAAyz"
      },
      "execution_count": null,
      "outputs": []
    },
    {
      "cell_type": "code",
      "source": [
        "def is_palindrome(s):\n",
        "    return s == s[::-1]\n",
        "\n",
        "# Example usage\n",
        "s = \"radar\"\n",
        "print(f\"Is '{s}' a palindrome? {is_palindrome(s)}\")\n"
      ],
      "metadata": {
        "id": "1qKdb_9lABX7"
      },
      "execution_count": null,
      "outputs": []
    },
    {
      "cell_type": "code",
      "source": [
        "def find_max_min(numbers):\n",
        "    return max(numbers), min(numbers)\n",
        "\n",
        "# Example usage\n",
        "numbers = [3, 1, 4, 1, 5, 9, 2, 6, 5]\n",
        "max_val, min_val = find_max_min(numbers)\n",
        "print(f\"Max value: {max_val}, Min value: {min_val}\")\n"
      ],
      "metadata": {
        "id": "z-JEknrCADfx"
      },
      "execution_count": null,
      "outputs": []
    },
    {
      "cell_type": "code",
      "source": [
        "def count_vowels(s):\n",
        "    vowels = \"aeiouAEIOU\"\n",
        "    return sum(1 for char in s if char in vowels)\n",
        "\n",
        "# Example usage\n",
        "s = \"Hello, World!\"\n",
        "print(f\"Number of vowels in '{s}': {count_vowels(s)}\")\n"
      ],
      "metadata": {
        "id": "IcFYaHjAAG7A"
      },
      "execution_count": null,
      "outputs": []
    },
    {
      "cell_type": "code",
      "source": [
        "def reverse_words(sentence):\n",
        "    words = sentence.split()\n",
        "    return ' '.join(reversed(words))\n",
        "\n",
        "# Example usage\n",
        "sentence = \"Hello, World!\"\n",
        "print(f\"Reversed words: '{reverse_words(sentence)}'\")\n"
      ],
      "metadata": {
        "id": "hYsLq3CPAHt8"
      },
      "execution_count": null,
      "outputs": []
    },
    {
      "cell_type": "code",
      "source": [
        "def is_leap_year(year):\n",
        "    return (year % 4 == 0 and year % 100 != 0) or (year % 400 == 0)\n",
        "\n",
        "# Example usage\n",
        "year = 2020\n",
        "print(f\"Is {year} a leap year? {is_leap_year(year)}\")\n"
      ],
      "metadata": {
        "id": "DC7q6v5oAJsm"
      },
      "execution_count": null,
      "outputs": []
    },
    {
      "cell_type": "code",
      "source": [
        "def fibonacci(n):\n",
        "    fib = [0, 1]\n",
        "    for i in range(2, n):\n",
        "        fib.append(fib[-1] + fib[-2])\n",
        "    return fib[:n]\n",
        "\n",
        "# Example usage\n",
        "n = 10\n",
        "print(f\"First {n} Fibonacci numbers: {fibonacci(n)}\")\n"
      ],
      "metadata": {
        "id": "z8TqrEUKALOC"
      },
      "execution_count": null,
      "outputs": []
    },
    {
      "cell_type": "markdown",
      "source": [
        "17-22"
      ],
      "metadata": {
        "id": "dPjBDVLgAM-R"
      }
    },
    {
      "cell_type": "code",
      "source": [
        "def second_largest(numbers):\n",
        "    unique_numbers = list(set(numbers))\n",
        "    unique_numbers.sort()\n",
        "    return unique_numbers[-2]\n",
        "\n",
        "# Example usage\n",
        "numbers = [3, 1, 4, 1, 5, 9, 2, 6, 5]\n",
        "print(f\"Second largest number: {second_largest(numbers)}\")\n"
      ],
      "metadata": {
        "id": "7FqjXHrbAPNo"
      },
      "execution_count": null,
      "outputs": []
    },
    {
      "cell_type": "code",
      "source": [
        "def word_count(s):\n",
        "    words = s.split()\n",
        "    counts = {}\n",
        "    for word in words:\n",
        "        counts[word] = counts.get(word, 0) + 1\n",
        "    return counts\n",
        "\n",
        "# Example usage\n",
        "s = \"hello world hello\"\n",
        "print(f\"Word counts: {word_count(s)}\")\n"
      ],
      "metadata": {
        "id": "0ff2w_0cAQp_"
      },
      "execution_count": null,
      "outputs": []
    },
    {
      "cell_type": "code",
      "source": [
        "def remove_duplicates(lst):\n",
        "    return list(set(lst))\n",
        "\n",
        "# Example usage\n",
        "lst = [1, 2, 2, 3, 4, 4, 5]\n",
        "print(f\"List without duplicates: {remove_duplicates(lst)}\")\n"
      ],
      "metadata": {
        "id": "RRVKeC89ASCZ"
      },
      "execution_count": null,
      "outputs": []
    },
    {
      "cell_type": "code",
      "source": [
        "def merge_dictionaries(dict1, dict2):\n",
        "    merged = dict1.copy()\n",
        "    merged.update(dict2)\n",
        "    return merged\n",
        "\n",
        "# Example usage\n",
        "dict1 = {'a': 1, 'b': 2}\n",
        "dict2 = {'b': 3, 'c': 4}\n",
        "print(f\"Merged dictionary: {merge_dictionaries(dict1, dict2)}\")\n"
      ],
      "metadata": {
        "id": "jXAy0MgrATEf"
      },
      "execution_count": null,
      "outputs": []
    },
    {
      "cell_type": "code",
      "source": [
        "def sort_tuples(tuples):\n",
        "    return sorted(tuples, key=lambda x: x[1])\n",
        "\n",
        "# Example usage\n",
        "tuples = [(1, 'c'), (2, 'a'), (3, 'b')]\n",
        "print(f\"Sorted tuples: {sort_tuples(tuples)}\")\n"
      ],
      "metadata": {
        "id": "zlG5xYR2AUDY"
      },
      "execution_count": null,
      "outputs": []
    },
    {
      "cell_type": "code",
      "source": [
        "def list_to_string(lst):\n",
        "    return ', '.join(lst)\n",
        "\n",
        "# Example usage\n",
        "lst = ['apple', 'banana', 'cherry']\n",
        "print(f\"Single string: '{list_to_string(lst)}'\")\n"
      ],
      "metadata": {
        "id": "V-MOcPg-AVFO"
      },
      "execution_count": null,
      "outputs": []
    }
  ]
}